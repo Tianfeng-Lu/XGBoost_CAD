{
 "cells": [
  {
   "cell_type": "code",
   "execution_count": 1,
   "source": [
    "import cairosvg\n",
    "import os"
   ],
   "outputs": [],
   "metadata": {}
  },
  {
   "cell_type": "code",
   "execution_count": 2,
   "source": [
    "file_type = 'svg'\n",
    "for dirpath,dirnames,filenames in os.walk(os.getcwd()):\n",
    "    filenames = [f for f in filenames if not f[0] == '.']\n",
    "    dirnames[:] = [d for d in dirnames if not d[0] == '.']\n",
    "    for files in filenames:\n",
    "        if(files.split('.')[-1] == file_type):\n",
    "            fullname = os.path.join(dirpath,files)\n",
    "            png_path = os.path.join(dirpath,files[:files.index('.')]+'.png') #生成png路径\n",
    "            if(not os.path.exists(png_path)): ##不存在对应的png文件 \n",
    "                cairosvg.svg2png(url = fullname, write_to = png_path,dpi=256) #转换文件\n"
   ],
   "outputs": [],
   "metadata": {}
  },
  {
   "cell_type": "code",
   "execution_count": 3,
   "source": [
    "for dirpath,dirnames,filenames in os.walk(os.getcwd()):\n",
    "    filenames = [f for f in filenames if not f[0] == '.']\n",
    "    dirnames[:] = [d for d in dirnames if not d[0] == '.']\n",
    "    for files in filenames:\n",
    "        if(files.split('.')[-1] == file_type and dirpath.find('./') == -1):\n",
    "            fullname = os.path.join(dirpath,files)\n",
    "            print(os.path.join(dirpath,files[:files.index('.')]+'.png'))\n",
    "            print(str(fullname))"
   ],
   "outputs": [
    {
     "output_type": "stream",
     "name": "stdout",
     "text": [
      "/home/lutianfeng/scRNAseq/CA_ECs/增补/corr.png\n",
      "/home/lutianfeng/scRNAseq/CA_ECs/增补/corr.svg\n",
      "/home/lutianfeng/scRNAseq/CA_ECs/增补/BMPsignaling.png\n",
      "/home/lutianfeng/scRNAseq/CA_ECs/增补/BMPsignaling.svg\n",
      "/home/lutianfeng/scRNAseq/CA_ECs/增补/Fibromyocytecells.png\n",
      "/home/lutianfeng/scRNAseq/CA_ECs/增补/Fibromyocytecells.svg\n",
      "/home/lutianfeng/scRNAseq/CA_ECs/增补/SMC1cells.png\n",
      "/home/lutianfeng/scRNAseq/CA_ECs/增补/SMC1cells.svg\n",
      "/home/lutianfeng/scRNAseq/CA_ECs/增补/SMC2cells.png\n",
      "/home/lutianfeng/scRNAseq/CA_ECs/增补/SMC2cells.svg\n"
     ]
    }
   ],
   "metadata": {}
  }
 ],
 "metadata": {
  "orig_nbformat": 4,
  "language_info": {
   "name": "python",
   "version": "3.9.7",
   "mimetype": "text/x-python",
   "codemirror_mode": {
    "name": "ipython",
    "version": 3
   },
   "pygments_lexer": "ipython3",
   "nbconvert_exporter": "python",
   "file_extension": ".py"
  },
  "kernelspec": {
   "name": "python3",
   "display_name": "Python 3.9.7 64-bit ('base': conda)"
  },
  "interpreter": {
   "hash": "fcd06f7c33e1d2fca3b949ad8811b4396178ead432e96181ac4b30ec9e98a3f7"
  }
 },
 "nbformat": 4,
 "nbformat_minor": 2
}